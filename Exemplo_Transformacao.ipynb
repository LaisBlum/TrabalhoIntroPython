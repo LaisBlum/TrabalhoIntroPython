{
  "cells": [
    {
      "cell_type": "markdown",
      "metadata": {
        "id": "view-in-github",
        "colab_type": "text"
      },
      "source": [
        "<a href=\"https://colab.research.google.com/github/LaisBlum/TrabalhoIntroPython/blob/main/Exemplo_Transformacao.ipynb\" target=\"_parent\"><img src=\"https://colab.research.google.com/assets/colab-badge.svg\" alt=\"Open In Colab\"/></a>"
      ]
    },
    {
      "cell_type": "markdown",
      "metadata": {
        "id": "WhZZ4pWiNx7l"
      },
      "source": [
        "Universidade do Vale do Itajaí<br>\n",
        "Escola do Mar, Ciência e Tecnologia<br>\n",
        "Professor Felipe Viel\n",
        "\n",
        "# Exemplo de Operações Pontuais e Filtro em OpenCV\n",
        "\n",
        "### Tutoriais da OpenCV\n",
        "\n",
        "- https://docs.opencv.org/master/d9/df8/tutorial_root.html\n",
        "- https://www.geeksforgeeks.org/opencv-python-tutorial/"
      ]
    },
    {
      "cell_type": "markdown",
      "metadata": {
        "id": "8KzyJbE-Nx7q"
      },
      "source": [
        "## Conversão de imagem RGB em imagem Grayscale"
      ]
    },
    {
      "cell_type": "code",
      "execution_count": null,
      "metadata": {
        "id": "SPRHcibRNx7s"
      },
      "outputs": [],
      "source": [
        "import cv2                                                              # Importa a bibliotéca do OpenCV (é uma bibliotéca de precessamento de imagens e videos).\n",
        "import numpy as np                                                      # Importa a bibliotéca do NumPy (uma bibliotéca de computação numérica, com arrays multidimencionais e funções matemáticas de alto desempenho, usada em conjunto com OpenCV).\n",
        "import matplotlib.pyplot as plt                                         # Importa uma bibliotéca de visualização de dados em python (usado aqui para exibir imagens)\n",
        "from google.colab.patches import cv2_imshow                             # é uma função do colab que chama a função cv_imshow (que será utilizada para exibir imagens)\n"
      ]
    },
    {
      "cell_type": "code",
      "execution_count": null,
      "metadata": {
        "id": "QotrNpurNx7u"
      },
      "outputs": [],
      "source": [
        "img = cv2.imread('t1.jpg',1)                              # Tem como função abrir a imagem com o nome citado e o parametro indica se a imagem ira ser carregada em corres(1), preto e branco(0) ou se mantem a configuração original(-1)\n",
        "cv2_imshow(img)                                           # Função expecifica do Colab, possibilita mostrar imagens diretamente do notebook/PC"
      ]
    },
    {
      "cell_type": "code",
      "execution_count": null,
      "metadata": {
        "id": "VLSzKpTtNx7v"
      },
      "outputs": [],
      "source": [
        "#mostrando a imagem colorida - caso você use Python no seu computador\n",
        "#reutilize para exibir as imagens em outros códigos\n",
        "#Voce pode descomentar o código apagando as aspas simples\n",
        "'''\n",
        "cv2.imshow('in', img)\n",
        "cv2.waitKey(0)\n",
        "cv2.destroyAllWindows()\n",
        "'''\n",
        "#cv2.imshow('in', img)    é utilizada para mostrar a imagem e o primeiro parâmetro 'in' é o nome da janela que a imagem irá ser mostrada, pode ser utilizado qualquer palavra como primeiro parâmetro.\n",
        "#cv2.waitKey(0)           essa função faz o código esperar o usuário pressionar alguma tecla antes de continuar, já o parametro indica que se ele irá esperar indefinidamente com o parâmetro (0) ou (-1) que tem a mesma função\n",
        "#já com um parâmetro definido por exemplo (500) será definido 500 milissegundos de espera.\n",
        "#cv2.destroyAllwindows()  é usada apenas para fechar todas as janelas abertas de forma eficiente \"todas as janelas abertas pelo cv2.imshow\""
      ]
    },
    {
      "cell_type": "code",
      "execution_count": null,
      "metadata": {
        "id": "G2Q1PN3QNx7y"
      },
      "outputs": [],
      "source": [
        "#aplicando conversão ponderada - converte imagem colorida para preto e branco\n",
        "#img_grayscale_basic = 0.299*img[ : , : ,0] + 0.587*img[ : , : ,1] + 0.114*img[ : , : ,2]\n",
        "\n",
        "#cv2\n",
        "B, G, R = cv2.split(img)                            # a sua função é dividir a imagem em 3 canais de cores nesse caso B \"canal Blue//Azul\", G \"Green//Verde\" e R \"Red//Vermelho\"\n",
        "img_grayscale_pondered = 0.299*B+0.587*G+0.114*R    # converge as cores em tons de cinza representando a luminosidade da imagem, a formula ao lado calcula cada cor R, G, B. mostrando a luminosidade baseada na formula e depois é armazenada na variável\n",
        "\n",
        "img_grayscale_pondered = np.array(img_grayscale_pondered, dtype=np.uint8)    #converte a imagem em escala cinza em dados apropiádos para exibila\n",
        "\n",
        "cv2_imshow(img_grayscale_pondered)                  # esta função apenas exibe a imagem em escala de cinza ponderada no google colab\n"
      ]
    },
    {
      "cell_type": "markdown",
      "metadata": {
        "id": "bA2JoZjXNx78"
      },
      "source": [
        "## Transformações"
      ]
    },
    {
      "cell_type": "code",
      "execution_count": null,
      "metadata": {
        "id": "QGSulCVYNx78"
      },
      "outputs": [],
      "source": [
        "#negativo\n",
        "\n",
        "#img_negative[ : , : ,0] = 255 - img[ : , : ,0]\n",
        "#img_negative[ : , : ,1] = 255 - img[ : , : ,1]      calcula o valor negativo dos canais de cores azul,vermelho e verde\n",
        "#img_negative[ : , : ,2] = 255 - img[ : , : ,2]\n",
        "\n",
        "colorida = 1   ## pode ser escolhido entre escala de cinza (0) e colorido (1) a variável colorida pode ser mudada de acordo com a necessidade\n",
        "\n",
        "img_in = cv2.imread('t1.jpg',colorida)    # esta variável armazena a imagem original carregada\n",
        "\n",
        "img_out = 255 - img_in  # realiza a inversão de cores (subtraindo o valor de cada pixel por 255 obtendo assim o valor invertido)\n",
        "\n",
        "cv2_imshow(img_in)   # exibe a imagem original carregada\n",
        "cv2_imshow(img_out)  # exibe a imagem invertida"
      ]
    },
    {
      "cell_type": "code",
      "execution_count": null,
      "metadata": {
        "id": "HMELaw10Nx8B"
      },
      "outputs": [],
      "source": [
        "#contraste e brilho\n",
        "img_in = cv2.imread('t1.jpg',0)  # carrega a imagem em escala cinza como especificado pelo parâmetro (0)\n",
        "\n",
        "a = -1       # tanto “a” quanto “b” podem ser qualquer número\n",
        "b = 1       # os números de “a” e de “b” representam parâmetros que controlam o contraste da imagem\n",
        "\n",
        "img_out = a*img_in + b # realiza o ajuste de contraste da imagem fazendo com que cada pixel seja multiplicado por “a” e somado com “b”\n",
        "\n",
        "\n",
        "img_out = np.array(img_out, dtype = np.uint8) # converte a imagem resultante para o tipo de dado ‘np.uint8’ representado por valores inteiros sem sinal de 8 bits\n",
        "\n",
        "cv2_imshow(img_in)   # é exibida a imagem original.\n",
        "cv2_imshow(img_out)  # é exibida a imagem com ajuste de contraste."
      ]
    },
    {
      "cell_type": "markdown",
      "metadata": {
        "id": "W8UZXLnRNx8E"
      },
      "source": [
        "## Filtro Espacial"
      ]
    },
    {
      "cell_type": "code",
      "execution_count": null,
      "metadata": {
        "id": "hWxjlsd9Nx8F"
      },
      "outputs": [],
      "source": [
        "#suavização\n",
        "img_in = cv2.imread('t1.jpg',0) # Carrega uma imagem e como o parâmetro é de (0) ela é carregada em escala de cinza\n",
        "\n",
        "kernel = np.ones((5,5),np.float32)/25 # Criar um kernel que é uma matriz especial para ser usada na operação de suavização da imagem\n",
        "\n",
        "\n",
        "img_out_1 = cv2.filter2D(img_in,-1,kernel) # aplica a operação de suavização de imagem de entrada usando o kernel definido na linha de cima o parâmetro nesse caso que a saída\n",
        " # terá a mesma profundidade de bits da imagem de entrada (-1) agora se o parâmetro fosse de (0) a  imagem de saída teria a profundidade de 8 bits por pixel (float) e se fosse (1)\n",
        " # a imagem de saída teria a profundidade de 32 bits por pixel.\n",
        "\n",
        "cv2_imshow(img_in)   #exibe a imagem original (no caso antes da suavização)\n",
        "cv2_imshow(img_out_1)  # é usada para exibir a imagem após o efeito de suavização.\n",
        "\n",
        "\n"
      ]
    }
  ],
  "metadata": {
    "kernelspec": {
      "display_name": "Python 3",
      "language": "python",
      "name": "python3"
    },
    "language_info": {
      "codemirror_mode": {
        "name": "ipython",
        "version": 3
      },
      "file_extension": ".py",
      "mimetype": "text/x-python",
      "name": "python",
      "nbconvert_exporter": "python",
      "pygments_lexer": "ipython3",
      "version": "3.8.5"
    },
    "colab": {
      "provenance": [],
      "include_colab_link": true
    }
  },
  "nbformat": 4,
  "nbformat_minor": 0
}